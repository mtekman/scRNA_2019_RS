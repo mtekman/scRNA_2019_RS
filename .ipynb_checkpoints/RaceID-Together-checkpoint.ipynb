{
 "cells": [
  {
   "cell_type": "markdown",
   "metadata": {},
   "source": [
    "# Integrated analysis\n",
    "\n",
    "The aim here is to perform an integrated analysis on the sets and try to find the EMT and Luminal subtypes that were seen during the Seurat anaylsis."
   ]
  },
  {
   "cell_type": "code",
   "execution_count": 7,
   "metadata": {},
   "outputs": [
    {
     "name": "stderr",
     "output_type": "stream",
     "text": [
      "── Attaching packages ─────────────────────────────────────── tidyverse 1.2.1 ──\n",
      "✔ ggplot2 3.0.0     ✔ purrr   0.2.5\n",
      "✔ tibble  1.4.2     ✔ dplyr   0.7.6\n",
      "✔ tidyr   0.8.1     ✔ stringr 1.3.1\n",
      "✔ readr   1.1.1     ✔ forcats 0.3.0\n",
      "── Conflicts ────────────────────────────────────────── tidyverse_conflicts() ──\n",
      "✖ tidyr::expand() masks Matrix::expand()\n",
      "✖ dplyr::filter() masks stats::filter()\n",
      "✖ dplyr::lag()    masks stats::lag()\n"
     ]
    }
   ],
   "source": [
    "library(RaceID)\n",
    "library(Matrix)\n",
    "library(tidyverse)"
   ]
  },
  {
   "cell_type": "code",
   "execution_count": 4,
   "metadata": {},
   "outputs": [],
   "source": [
    "ctr.mat <- readMM(\"source/ctr/matrix.mtx\")\n",
    "sin.mat <- readMM(\"source/siN6amt1/siN6amt1_matrix.mtx\")"
   ]
  },
  {
   "cell_type": "code",
   "execution_count": 8,
   "metadata": {},
   "outputs": [],
   "source": [
    "ctr.bar <- read.table(\"source/ctr/barcodes.tsv\", header=F, stringsAsFactors=F)[,1]\n",
    "sin.bar <- read.table(\"source/siN6amt1/siN6amt1_barcodes.tsv\", header=F, stringsAsFactors=F)[,1]"
   ]
  },
  {
   "cell_type": "code",
   "execution_count": 9,
   "metadata": {},
   "outputs": [],
   "source": [
    "ctr.genes <- read.table(\"source/ctr/genes.tsv\", header=F, stringsAsFactors=F)\n",
    "sin.genes <- read.table(\"source/siN6amt1//siN6amt1_genes.tsv\", header=F, stringsAsFactors=F)"
   ]
  },
  {
   "cell_type": "code",
   "execution_count": 11,
   "metadata": {},
   "outputs": [
    {
     "data": {
      "text/html": [
       "<ol class=list-inline>\n",
       "\t<li>33694</li>\n",
       "\t<li>3709</li>\n",
       "</ol>\n"
      ],
      "text/latex": [
       "\\begin{enumerate*}\n",
       "\\item 33694\n",
       "\\item 3709\n",
       "\\end{enumerate*}\n"
      ],
      "text/markdown": [
       "1. 33694\n",
       "2. 3709\n",
       "\n",
       "\n"
      ],
      "text/plain": [
       "[1] 33694  3709"
      ]
     },
     "metadata": {},
     "output_type": "display_data"
    },
    {
     "data": {
      "text/html": [
       "<ol class=list-inline>\n",
       "\t<li>33694</li>\n",
       "\t<li>4515</li>\n",
       "</ol>\n"
      ],
      "text/latex": [
       "\\begin{enumerate*}\n",
       "\\item 33694\n",
       "\\item 4515\n",
       "\\end{enumerate*}\n"
      ],
      "text/markdown": [
       "1. 33694\n",
       "2. 4515\n",
       "\n",
       "\n"
      ],
      "text/plain": [
       "[1] 33694  4515"
      ]
     },
     "metadata": {},
     "output_type": "display_data"
    }
   ],
   "source": [
    "dim(ctr.mat)\n",
    "dim(sin.mat)"
   ]
  },
  {
   "cell_type": "code",
   "execution_count": 12,
   "metadata": {},
   "outputs": [
    {
     "data": {
      "text/html": [
       "<table>\n",
       "<thead><tr><th scope=col>V1</th><th scope=col>V2</th></tr></thead>\n",
       "<tbody>\n",
       "\t<tr><td>ENSG00000243485</td><td>RP11-34P13.3   </td></tr>\n",
       "\t<tr><td>ENSG00000237613</td><td>FAM138A        </td></tr>\n",
       "\t<tr><td>ENSG00000186092</td><td>OR4F5          </td></tr>\n",
       "\t<tr><td>ENSG00000238009</td><td>RP11-34P13.7   </td></tr>\n",
       "\t<tr><td>ENSG00000239945</td><td>RP11-34P13.8   </td></tr>\n",
       "\t<tr><td>ENSG00000239906</td><td>RP11-34P13.14  </td></tr>\n",
       "</tbody>\n",
       "</table>\n"
      ],
      "text/latex": [
       "\\begin{tabular}{r|ll}\n",
       " V1 & V2\\\\\n",
       "\\hline\n",
       "\t ENSG00000243485 & RP11-34P13.3   \\\\\n",
       "\t ENSG00000237613 & FAM138A        \\\\\n",
       "\t ENSG00000186092 & OR4F5          \\\\\n",
       "\t ENSG00000238009 & RP11-34P13.7   \\\\\n",
       "\t ENSG00000239945 & RP11-34P13.8   \\\\\n",
       "\t ENSG00000239906 & RP11-34P13.14  \\\\\n",
       "\\end{tabular}\n"
      ],
      "text/markdown": [
       "\n",
       "V1 | V2 | \n",
       "|---|---|---|---|---|---|\n",
       "| ENSG00000243485 | RP11-34P13.3    | \n",
       "| ENSG00000237613 | FAM138A         | \n",
       "| ENSG00000186092 | OR4F5           | \n",
       "| ENSG00000238009 | RP11-34P13.7    | \n",
       "| ENSG00000239945 | RP11-34P13.8    | \n",
       "| ENSG00000239906 | RP11-34P13.14   | \n",
       "\n",
       "\n"
      ],
      "text/plain": [
       "  V1              V2           \n",
       "1 ENSG00000243485 RP11-34P13.3 \n",
       "2 ENSG00000237613 FAM138A      \n",
       "3 ENSG00000186092 OR4F5        \n",
       "4 ENSG00000238009 RP11-34P13.7 \n",
       "5 ENSG00000239945 RP11-34P13.8 \n",
       "6 ENSG00000239906 RP11-34P13.14"
      ]
     },
     "metadata": {},
     "output_type": "display_data"
    }
   ],
   "source": [
    "head(ctr.genes)"
   ]
  },
  {
   "cell_type": "markdown",
   "metadata": {},
   "source": [
    "We should use V2 names (despite the 34 duplicates seen in the CTR)"
   ]
  },
  {
   "cell_type": "markdown",
   "metadata": {},
   "source": [
    "### Uniting Matrix Data and Headers"
   ]
  },
  {
   "cell_type": "code",
   "execution_count": 15,
   "metadata": {},
   "outputs": [],
   "source": [
    "# Uniting  the data with the headers\n",
    "rownames(ctr.mat) <- ctr.genes[,2]\n",
    "colnames(ctr.mat) <- ctr.bar"
   ]
  },
  {
   "cell_type": "code",
   "execution_count": 16,
   "metadata": {},
   "outputs": [
    {
     "data": {
      "text/plain": [
       "10 x 2 sparse Matrix of class \"dgTMatrix\"\n",
       "              AAACCTGCACGCTTTC-1 AAACCTGGTGAAATCA-1\n",
       "RP11-34P13.3                   .                  .\n",
       "FAM138A                        .                  .\n",
       "OR4F5                          .                  .\n",
       "RP11-34P13.7                   .                  .\n",
       "RP11-34P13.8                   .                  .\n",
       "RP11-34P13.14                  .                  .\n",
       "RP11-34P13.9                   .                  .\n",
       "FO538757.3                     .                  .\n",
       "FO538757.2                     3                  1\n",
       "AP006222.2                     .                  ."
      ]
     },
     "metadata": {},
     "output_type": "display_data"
    }
   ],
   "source": [
    "ctr.mat[1:10,1:2]"
   ]
  },
  {
   "cell_type": "code",
   "execution_count": 17,
   "metadata": {},
   "outputs": [
    {
     "data": {
      "text/plain": [
       "10 x 2 sparse Matrix of class \"dgTMatrix\"\n",
       "              AAACCTGAGGGTGTTG-1 AAACCTGCATCCAACA-1\n",
       "RP11-34P13.3                   .                  .\n",
       "FAM138A                        .                  .\n",
       "OR4F5                          .                  .\n",
       "RP11-34P13.7                   .                  .\n",
       "RP11-34P13.8                   .                  .\n",
       "RP11-34P13.14                  .                  .\n",
       "RP11-34P13.9                   .                  .\n",
       "FO538757.3                     .                  .\n",
       "FO538757.2                     1                  .\n",
       "AP006222.2                     2                  2"
      ]
     },
     "metadata": {},
     "output_type": "display_data"
    }
   ],
   "source": [
    "# Uniting  the data with the headers\n",
    "rownames(sin.mat) <- sin.genes[,2]\n",
    "colnames(sin.mat) <- sin.bar\n",
    "sin.mat[1:10,1:2]"
   ]
  },
  {
   "cell_type": "code",
   "execution_count": 18,
   "metadata": {},
   "outputs": [],
   "source": [
    "saveRDS(ctr.mat, \"checkpoints/ctrmat.good.rds\")\n",
    "saveRDS(sin.mat, \"checkpoints/sinmat.good.rds\")"
   ]
  },
  {
   "cell_type": "markdown",
   "metadata": {},
   "source": [
    "# Initial clustering \n",
    "\n",
    "## Filtering\n",
    "\n",
    "This involves filtering out any MT genes, and any overexpressed transcripts."
   ]
  },
  {
   "cell_type": "code",
   "execution_count": 54,
   "metadata": {},
   "outputs": [],
   "source": [
    "ctr.expr <- ctr.mat %>% rowSums()\n",
    "sin.expr <- sin.mat %>% rowSums()"
   ]
  },
  {
   "cell_type": "code",
   "execution_count": 55,
   "metadata": {},
   "outputs": [],
   "source": [
    "dat <- cbind(ctr.expr, sin.expr)"
   ]
  },
  {
   "cell_type": "code",
   "execution_count": 51,
   "metadata": {},
   "outputs": [
    {
     "data": {
      "text/html": [
       "<strong>FO538757.2:</strong> 3323"
      ],
      "text/latex": [
       "\\textbf{FO538757.2:} 3323"
      ],
      "text/markdown": [
       "**FO538757.2:** 3323"
      ],
      "text/plain": [
       "FO538757.2 \n",
       "      3323 "
      ]
     },
     "metadata": {},
     "output_type": "display_data"
    },
    {
     "data": {
      "text/html": [
       "<strong>FO538757.2:</strong> 3921"
      ],
      "text/latex": [
       "\\textbf{FO538757.2:} 3921"
      ],
      "text/markdown": [
       "**FO538757.2:** 3921"
      ],
      "text/plain": [
       "FO538757.2 \n",
       "      3921 "
      ]
     },
     "metadata": {},
     "output_type": "display_data"
    },
    {
     "data": {
      "text/html": [
       "<dl class=dl-horizontal>\n",
       "\t<dt>ctr.expr</dt>\n",
       "\t\t<dd>3323</dd>\n",
       "\t<dt>sin.expr</dt>\n",
       "\t\t<dd>3921</dd>\n",
       "</dl>\n"
      ],
      "text/latex": [
       "\\begin{description*}\n",
       "\\item[ctr.expr] 3323\n",
       "\\item[sin.expr] 3921\n",
       "\\end{description*}\n"
      ],
      "text/markdown": [
       "ctr.expr\n",
       ":   3323sin.expr\n",
       ":   3921\n",
       "\n"
      ],
      "text/plain": [
       "ctr.expr sin.expr \n",
       "    3323     3921 "
      ]
     },
     "metadata": {},
     "output_type": "display_data"
    }
   ],
   "source": [
    "# validate that bind worked as intended\n",
    "ctr.expr[\"FO538757.2\"]\n",
    "sin.expr[\"FO538757.2\"]\n",
    "\n",
    "dat[\"FO538757.2\",]"
   ]
  },
  {
   "cell_type": "code",
   "execution_count": 68,
   "metadata": {},
   "outputs": [],
   "source": [
    "# convert to tibble\n",
    "drt <- tibble(\n",
    "    name = rownames(dat),\n",
    "    ctr = dat[,1],\n",
    "    sin = dat[,2]\n",
    ")"
   ]
  },
  {
   "cell_type": "code",
   "execution_count": 69,
   "metadata": {},
   "outputs": [
    {
     "data": {
      "text/html": [
       "<table>\n",
       "<thead><tr><th scope=col>name</th><th scope=col>ctr</th><th scope=col>sin</th></tr></thead>\n",
       "<tbody>\n",
       "\t<tr><td>FO538757.2</td><td>3323      </td><td>3921      </td></tr>\n",
       "</tbody>\n",
       "</table>\n"
      ],
      "text/latex": [
       "\\begin{tabular}{r|lll}\n",
       " name & ctr & sin\\\\\n",
       "\\hline\n",
       "\t FO538757.2 & 3323       & 3921      \\\\\n",
       "\\end{tabular}\n"
      ],
      "text/markdown": [
       "\n",
       "name | ctr | sin | \n",
       "|---|\n",
       "| FO538757.2 | 3323       | 3921       | \n",
       "\n",
       "\n"
      ],
      "text/plain": [
       "  name       ctr  sin \n",
       "1 FO538757.2 3323 3921"
      ]
     },
     "metadata": {},
     "output_type": "display_data"
    }
   ],
   "source": [
    "# validate\n",
    "drt %>% filter(name==\"FO538757.2\")"
   ]
  },
  {
   "cell_type": "code",
   "execution_count": 81,
   "metadata": {},
   "outputs": [
    {
     "data": {
      "text/html": [
       "<table>\n",
       "<thead><tr><th scope=col>name</th><th scope=col>ctr</th><th scope=col>sin</th><th scope=col>ctr.perc</th><th scope=col>sin.perc</th></tr></thead>\n",
       "<tbody>\n",
       "\t<tr><td>FTH1     </td><td>2377580  </td><td>13282373 </td><td>1.9293895</td><td>8.2427291</td></tr>\n",
       "\t<tr><td>RPS18    </td><td>2081732  </td><td> 2420307 </td><td>1.6893110</td><td>1.5019857</td></tr>\n",
       "\t<tr><td>RPS2     </td><td>1999764  </td><td> 2117067 </td><td>1.6227945</td><td>1.3138021</td></tr>\n",
       "\t<tr><td>RPL13    </td><td>1924171  </td><td> 2101915 </td><td>1.5614513</td><td>1.3043991</td></tr>\n",
       "\t<tr><td>RPL13A   </td><td>1875979  </td><td> 2593637 </td><td>1.5223438</td><td>1.6095503</td></tr>\n",
       "\t<tr><td>RPL18A   </td><td>1853873  </td><td> 2118164 </td><td>1.5044050</td><td>1.3144829</td></tr>\n",
       "\t<tr><td>RPS24    </td><td>1682239  </td><td> 1602102 </td><td>1.3651252</td><td>0.9942269</td></tr>\n",
       "\t<tr><td>RPL10    </td><td>1653679  </td><td> 2580104 </td><td>1.3419489</td><td>1.6011520</td></tr>\n",
       "\t<tr><td>EEF1A1   </td><td>1460478  </td><td> 2595400 </td><td>1.1851677</td><td>1.6106443</td></tr>\n",
       "\t<tr><td>RPL12    </td><td>1454538  </td><td> 1434992 </td><td>1.1803474</td><td>0.8905224</td></tr>\n",
       "\t<tr><td>RPL29    </td><td>1398438  </td><td> 1442871 </td><td>1.1348227</td><td>0.8954119</td></tr>\n",
       "\t<tr><td>RPL8     </td><td>1375360  </td><td> 1629600 </td><td>1.1160950</td><td>1.0112915</td></tr>\n",
       "\t<tr><td>RPL32    </td><td>1366876  </td><td> 1754053 </td><td>1.1092103</td><td>1.0885241</td></tr>\n",
       "\t<tr><td>RPS14    </td><td>1197965  </td><td> 1455339 </td><td>0.9721402</td><td>0.9031492</td></tr>\n",
       "\t<tr><td>RPS12    </td><td>1142568  </td><td> 1494429 </td><td>0.9271859</td><td>0.9274076</td></tr>\n",
       "\t<tr><td>RPLP2    </td><td>1109787  </td><td> 1288413 </td><td>0.9005844</td><td>0.7995589</td></tr>\n",
       "\t<tr><td>RPLP1    </td><td>1093887  </td><td> 1345799 </td><td>0.8876817</td><td>0.8351713</td></tr>\n",
       "\t<tr><td>MT-CO1   </td><td>1064843  </td><td>  939904 </td><td>0.8641126</td><td>0.5832824</td></tr>\n",
       "\t<tr><td>RPS3     </td><td>1035995  </td><td> 1301919 </td><td>0.8407027</td><td>0.8079404</td></tr>\n",
       "\t<tr><td>RPL27A   </td><td> 974211  </td><td> 1086319 </td><td>0.7905654</td><td>0.6741441</td></tr>\n",
       "\t<tr><td>RPL15    </td><td> 960237  </td><td> 1202387 </td><td>0.7792256</td><td>0.7461732</td></tr>\n",
       "\t<tr><td>RPS5     </td><td> 957978  </td><td> 1249794 </td><td>0.7773924</td><td>0.7755928</td></tr>\n",
       "\t<tr><td>RPL36    </td><td> 947286  </td><td>  990500 </td><td>0.7687160</td><td>0.6146811</td></tr>\n",
       "\t<tr><td>RPL11    </td><td> 945433  </td><td> 1166447 </td><td>0.7672123</td><td>0.7238696</td></tr>\n",
       "\t<tr><td>RPS28    </td><td> 927334  </td><td> 1033258 </td><td>0.7525251</td><td>0.6412157</td></tr>\n",
       "\t<tr><td>RPS8     </td><td> 923933  </td><td> 1185273 </td><td>0.7497652</td><td>0.7355526</td></tr>\n",
       "\t<tr><td>RPS27A   </td><td> 907872  </td><td> 1076634 </td><td>0.7367318</td><td>0.6681338</td></tr>\n",
       "\t<tr><td>RPS23    </td><td> 903864  </td><td> 1123810 </td><td>0.7334793</td><td>0.6974101</td></tr>\n",
       "\t<tr><td>RPL7A    </td><td> 897491  </td><td> 1011237 </td><td>0.7283077</td><td>0.6275500</td></tr>\n",
       "\t<tr><td>RPL28    </td><td> 891940  </td><td> 1310995 </td><td>0.7238031</td><td>0.8135727</td></tr>\n",
       "\t<tr><td>⋮</td><td>⋮</td><td>⋮</td><td>⋮</td><td>⋮</td></tr>\n",
       "\t<tr><td>LINC00163    </td><td>0            </td><td>1            </td><td>0            </td><td>6.205765e-07 </td></tr>\n",
       "\t<tr><td>LINC00165    </td><td>0            </td><td>0            </td><td>0            </td><td>0.000000e+00 </td></tr>\n",
       "\t<tr><td>LINC00162    </td><td>0            </td><td>0            </td><td>0            </td><td>0.000000e+00 </td></tr>\n",
       "\t<tr><td>RP5-1023B21.1</td><td>0            </td><td>0            </td><td>0            </td><td>0.000000e+00 </td></tr>\n",
       "\t<tr><td>LINC00315    </td><td>0            </td><td>0            </td><td>0            </td><td>0.000000e+00 </td></tr>\n",
       "\t<tr><td>BX322557.13  </td><td>0            </td><td>0            </td><td>0            </td><td>0.000000e+00 </td></tr>\n",
       "\t<tr><td>COL18A1-AS2  </td><td>0            </td><td>0            </td><td>0            </td><td>0.000000e+00 </td></tr>\n",
       "\t<tr><td>RP1-101D8.1  </td><td>0            </td><td>0            </td><td>0            </td><td>0.000000e+00 </td></tr>\n",
       "\t<tr><td>AL592528.1   </td><td>0            </td><td>0            </td><td>0            </td><td>0.000000e+00 </td></tr>\n",
       "\t<tr><td>AP001476.4   </td><td>0            </td><td>0            </td><td>0            </td><td>0.000000e+00 </td></tr>\n",
       "\t<tr><td>AP001476.3   </td><td>0            </td><td>0            </td><td>0            </td><td>0.000000e+00 </td></tr>\n",
       "\t<tr><td>FTCD-AS1     </td><td>0            </td><td>0            </td><td>0            </td><td>0.000000e+00 </td></tr>\n",
       "\t<tr><td>S100B        </td><td>0            </td><td>0            </td><td>0            </td><td>0.000000e+00 </td></tr>\n",
       "\t<tr><td>AC133551.1   </td><td>0            </td><td>0            </td><td>0            </td><td>0.000000e+00 </td></tr>\n",
       "\t<tr><td>AC136612.1   </td><td>0            </td><td>0            </td><td>0            </td><td>0.000000e+00 </td></tr>\n",
       "\t<tr><td>AC136616.3   </td><td>0            </td><td>0            </td><td>0            </td><td>0.000000e+00 </td></tr>\n",
       "\t<tr><td>AC136616.2   </td><td>0            </td><td>0            </td><td>0            </td><td>0.000000e+00 </td></tr>\n",
       "\t<tr><td>AC141272.1   </td><td>0            </td><td>0            </td><td>0            </td><td>0.000000e+00 </td></tr>\n",
       "\t<tr><td>AC136352.4   </td><td>0            </td><td>0            </td><td>0            </td><td>0.000000e+00 </td></tr>\n",
       "\t<tr><td>AC171558.2   </td><td>0            </td><td>0            </td><td>0            </td><td>0.000000e+00 </td></tr>\n",
       "\t<tr><td>AC171558.1   </td><td>0            </td><td>0            </td><td>0            </td><td>0.000000e+00 </td></tr>\n",
       "\t<tr><td>AC011841.1   </td><td>0            </td><td>0            </td><td>0            </td><td>0.000000e+00 </td></tr>\n",
       "\t<tr><td>AC011043.2   </td><td>0            </td><td>0            </td><td>0            </td><td>0.000000e+00 </td></tr>\n",
       "\t<tr><td>AC007325.2   </td><td>0            </td><td>0            </td><td>0            </td><td>0.000000e+00 </td></tr>\n",
       "\t<tr><td>BX072566.1   </td><td>0            </td><td>0            </td><td>0            </td><td>0.000000e+00 </td></tr>\n",
       "\t<tr><td>AC023491.2   </td><td>0            </td><td>0            </td><td>0            </td><td>0.000000e+00 </td></tr>\n",
       "\t<tr><td>AC233755.2   </td><td>0            </td><td>0            </td><td>0            </td><td>0.000000e+00 </td></tr>\n",
       "\t<tr><td>AC233755.1   </td><td>0            </td><td>0            </td><td>0            </td><td>0.000000e+00 </td></tr>\n",
       "\t<tr><td>AC213203.1   </td><td>0            </td><td>0            </td><td>0            </td><td>0.000000e+00 </td></tr>\n",
       "\t<tr><td>FAM231B      </td><td>0            </td><td>0            </td><td>0            </td><td>0.000000e+00 </td></tr>\n",
       "</tbody>\n",
       "</table>\n"
      ],
      "text/latex": [
       "\\begin{tabular}{r|lllll}\n",
       " name & ctr & sin & ctr.perc & sin.perc\\\\\n",
       "\\hline\n",
       "\t FTH1      & 2377580   & 13282373  & 1.9293895 & 8.2427291\\\\\n",
       "\t RPS18     & 2081732   &  2420307  & 1.6893110 & 1.5019857\\\\\n",
       "\t RPS2      & 1999764   &  2117067  & 1.6227945 & 1.3138021\\\\\n",
       "\t RPL13     & 1924171   &  2101915  & 1.5614513 & 1.3043991\\\\\n",
       "\t RPL13A    & 1875979   &  2593637  & 1.5223438 & 1.6095503\\\\\n",
       "\t RPL18A    & 1853873   &  2118164  & 1.5044050 & 1.3144829\\\\\n",
       "\t RPS24     & 1682239   &  1602102  & 1.3651252 & 0.9942269\\\\\n",
       "\t RPL10     & 1653679   &  2580104  & 1.3419489 & 1.6011520\\\\\n",
       "\t EEF1A1    & 1460478   &  2595400  & 1.1851677 & 1.6106443\\\\\n",
       "\t RPL12     & 1454538   &  1434992  & 1.1803474 & 0.8905224\\\\\n",
       "\t RPL29     & 1398438   &  1442871  & 1.1348227 & 0.8954119\\\\\n",
       "\t RPL8      & 1375360   &  1629600  & 1.1160950 & 1.0112915\\\\\n",
       "\t RPL32     & 1366876   &  1754053  & 1.1092103 & 1.0885241\\\\\n",
       "\t RPS14     & 1197965   &  1455339  & 0.9721402 & 0.9031492\\\\\n",
       "\t RPS12     & 1142568   &  1494429  & 0.9271859 & 0.9274076\\\\\n",
       "\t RPLP2     & 1109787   &  1288413  & 0.9005844 & 0.7995589\\\\\n",
       "\t RPLP1     & 1093887   &  1345799  & 0.8876817 & 0.8351713\\\\\n",
       "\t MT-CO1    & 1064843   &   939904  & 0.8641126 & 0.5832824\\\\\n",
       "\t RPS3      & 1035995   &  1301919  & 0.8407027 & 0.8079404\\\\\n",
       "\t RPL27A    &  974211   &  1086319  & 0.7905654 & 0.6741441\\\\\n",
       "\t RPL15     &  960237   &  1202387  & 0.7792256 & 0.7461732\\\\\n",
       "\t RPS5      &  957978   &  1249794  & 0.7773924 & 0.7755928\\\\\n",
       "\t RPL36     &  947286   &   990500  & 0.7687160 & 0.6146811\\\\\n",
       "\t RPL11     &  945433   &  1166447  & 0.7672123 & 0.7238696\\\\\n",
       "\t RPS28     &  927334   &  1033258  & 0.7525251 & 0.6412157\\\\\n",
       "\t RPS8      &  923933   &  1185273  & 0.7497652 & 0.7355526\\\\\n",
       "\t RPS27A    &  907872   &  1076634  & 0.7367318 & 0.6681338\\\\\n",
       "\t RPS23     &  903864   &  1123810  & 0.7334793 & 0.6974101\\\\\n",
       "\t RPL7A     &  897491   &  1011237  & 0.7283077 & 0.6275500\\\\\n",
       "\t RPL28     &  891940   &  1310995  & 0.7238031 & 0.8135727\\\\\n",
       "\t ⋮ & ⋮ & ⋮ & ⋮ & ⋮\\\\\n",
       "\t LINC00163     & 0             & 1             & 0             & 6.205765e-07 \\\\\n",
       "\t LINC00165     & 0             & 0             & 0             & 0.000000e+00 \\\\\n",
       "\t LINC00162     & 0             & 0             & 0             & 0.000000e+00 \\\\\n",
       "\t RP5-1023B21.1 & 0             & 0             & 0             & 0.000000e+00 \\\\\n",
       "\t LINC00315     & 0             & 0             & 0             & 0.000000e+00 \\\\\n",
       "\t BX322557.13   & 0             & 0             & 0             & 0.000000e+00 \\\\\n",
       "\t COL18A1-AS2   & 0             & 0             & 0             & 0.000000e+00 \\\\\n",
       "\t RP1-101D8.1   & 0             & 0             & 0             & 0.000000e+00 \\\\\n",
       "\t AL592528.1    & 0             & 0             & 0             & 0.000000e+00 \\\\\n",
       "\t AP001476.4    & 0             & 0             & 0             & 0.000000e+00 \\\\\n",
       "\t AP001476.3    & 0             & 0             & 0             & 0.000000e+00 \\\\\n",
       "\t FTCD-AS1      & 0             & 0             & 0             & 0.000000e+00 \\\\\n",
       "\t S100B         & 0             & 0             & 0             & 0.000000e+00 \\\\\n",
       "\t AC133551.1    & 0             & 0             & 0             & 0.000000e+00 \\\\\n",
       "\t AC136612.1    & 0             & 0             & 0             & 0.000000e+00 \\\\\n",
       "\t AC136616.3    & 0             & 0             & 0             & 0.000000e+00 \\\\\n",
       "\t AC136616.2    & 0             & 0             & 0             & 0.000000e+00 \\\\\n",
       "\t AC141272.1    & 0             & 0             & 0             & 0.000000e+00 \\\\\n",
       "\t AC136352.4    & 0             & 0             & 0             & 0.000000e+00 \\\\\n",
       "\t AC171558.2    & 0             & 0             & 0             & 0.000000e+00 \\\\\n",
       "\t AC171558.1    & 0             & 0             & 0             & 0.000000e+00 \\\\\n",
       "\t AC011841.1    & 0             & 0             & 0             & 0.000000e+00 \\\\\n",
       "\t AC011043.2    & 0             & 0             & 0             & 0.000000e+00 \\\\\n",
       "\t AC007325.2    & 0             & 0             & 0             & 0.000000e+00 \\\\\n",
       "\t BX072566.1    & 0             & 0             & 0             & 0.000000e+00 \\\\\n",
       "\t AC023491.2    & 0             & 0             & 0             & 0.000000e+00 \\\\\n",
       "\t AC233755.2    & 0             & 0             & 0             & 0.000000e+00 \\\\\n",
       "\t AC233755.1    & 0             & 0             & 0             & 0.000000e+00 \\\\\n",
       "\t AC213203.1    & 0             & 0             & 0             & 0.000000e+00 \\\\\n",
       "\t FAM231B       & 0             & 0             & 0             & 0.000000e+00 \\\\\n",
       "\\end{tabular}\n"
      ],
      "text/markdown": [
       "\n",
       "name | ctr | sin | ctr.perc | sin.perc | \n",
       "|---|---|---|---|---|---|---|---|---|---|---|---|---|---|---|---|---|---|---|---|---|---|---|---|---|---|---|---|---|---|---|---|---|---|---|---|---|---|---|---|---|---|---|---|---|---|---|---|---|---|---|---|---|---|---|---|---|---|---|---|---|\n",
       "| FTH1      | 2377580   | 13282373  | 1.9293895 | 8.2427291 | \n",
       "| RPS18     | 2081732   |  2420307  | 1.6893110 | 1.5019857 | \n",
       "| RPS2      | 1999764   |  2117067  | 1.6227945 | 1.3138021 | \n",
       "| RPL13     | 1924171   |  2101915  | 1.5614513 | 1.3043991 | \n",
       "| RPL13A    | 1875979   |  2593637  | 1.5223438 | 1.6095503 | \n",
       "| RPL18A    | 1853873   |  2118164  | 1.5044050 | 1.3144829 | \n",
       "| RPS24     | 1682239   |  1602102  | 1.3651252 | 0.9942269 | \n",
       "| RPL10     | 1653679   |  2580104  | 1.3419489 | 1.6011520 | \n",
       "| EEF1A1    | 1460478   |  2595400  | 1.1851677 | 1.6106443 | \n",
       "| RPL12     | 1454538   |  1434992  | 1.1803474 | 0.8905224 | \n",
       "| RPL29     | 1398438   |  1442871  | 1.1348227 | 0.8954119 | \n",
       "| RPL8      | 1375360   |  1629600  | 1.1160950 | 1.0112915 | \n",
       "| RPL32     | 1366876   |  1754053  | 1.1092103 | 1.0885241 | \n",
       "| RPS14     | 1197965   |  1455339  | 0.9721402 | 0.9031492 | \n",
       "| RPS12     | 1142568   |  1494429  | 0.9271859 | 0.9274076 | \n",
       "| RPLP2     | 1109787   |  1288413  | 0.9005844 | 0.7995589 | \n",
       "| RPLP1     | 1093887   |  1345799  | 0.8876817 | 0.8351713 | \n",
       "| MT-CO1    | 1064843   |   939904  | 0.8641126 | 0.5832824 | \n",
       "| RPS3      | 1035995   |  1301919  | 0.8407027 | 0.8079404 | \n",
       "| RPL27A    |  974211   |  1086319  | 0.7905654 | 0.6741441 | \n",
       "| RPL15     |  960237   |  1202387  | 0.7792256 | 0.7461732 | \n",
       "| RPS5      |  957978   |  1249794  | 0.7773924 | 0.7755928 | \n",
       "| RPL36     |  947286   |   990500  | 0.7687160 | 0.6146811 | \n",
       "| RPL11     |  945433   |  1166447  | 0.7672123 | 0.7238696 | \n",
       "| RPS28     |  927334   |  1033258  | 0.7525251 | 0.6412157 | \n",
       "| RPS8      |  923933   |  1185273  | 0.7497652 | 0.7355526 | \n",
       "| RPS27A    |  907872   |  1076634  | 0.7367318 | 0.6681338 | \n",
       "| RPS23     |  903864   |  1123810  | 0.7334793 | 0.6974101 | \n",
       "| RPL7A     |  897491   |  1011237  | 0.7283077 | 0.6275500 | \n",
       "| RPL28     |  891940   |  1310995  | 0.7238031 | 0.8135727 | \n",
       "| ⋮ | ⋮ | ⋮ | ⋮ | ⋮ | \n",
       "| LINC00163     | 0             | 1             | 0             | 6.205765e-07  | \n",
       "| LINC00165     | 0             | 0             | 0             | 0.000000e+00  | \n",
       "| LINC00162     | 0             | 0             | 0             | 0.000000e+00  | \n",
       "| RP5-1023B21.1 | 0             | 0             | 0             | 0.000000e+00  | \n",
       "| LINC00315     | 0             | 0             | 0             | 0.000000e+00  | \n",
       "| BX322557.13   | 0             | 0             | 0             | 0.000000e+00  | \n",
       "| COL18A1-AS2   | 0             | 0             | 0             | 0.000000e+00  | \n",
       "| RP1-101D8.1   | 0             | 0             | 0             | 0.000000e+00  | \n",
       "| AL592528.1    | 0             | 0             | 0             | 0.000000e+00  | \n",
       "| AP001476.4    | 0             | 0             | 0             | 0.000000e+00  | \n",
       "| AP001476.3    | 0             | 0             | 0             | 0.000000e+00  | \n",
       "| FTCD-AS1      | 0             | 0             | 0             | 0.000000e+00  | \n",
       "| S100B         | 0             | 0             | 0             | 0.000000e+00  | \n",
       "| AC133551.1    | 0             | 0             | 0             | 0.000000e+00  | \n",
       "| AC136612.1    | 0             | 0             | 0             | 0.000000e+00  | \n",
       "| AC136616.3    | 0             | 0             | 0             | 0.000000e+00  | \n",
       "| AC136616.2    | 0             | 0             | 0             | 0.000000e+00  | \n",
       "| AC141272.1    | 0             | 0             | 0             | 0.000000e+00  | \n",
       "| AC136352.4    | 0             | 0             | 0             | 0.000000e+00  | \n",
       "| AC171558.2    | 0             | 0             | 0             | 0.000000e+00  | \n",
       "| AC171558.1    | 0             | 0             | 0             | 0.000000e+00  | \n",
       "| AC011841.1    | 0             | 0             | 0             | 0.000000e+00  | \n",
       "| AC011043.2    | 0             | 0             | 0             | 0.000000e+00  | \n",
       "| AC007325.2    | 0             | 0             | 0             | 0.000000e+00  | \n",
       "| BX072566.1    | 0             | 0             | 0             | 0.000000e+00  | \n",
       "| AC023491.2    | 0             | 0             | 0             | 0.000000e+00  | \n",
       "| AC233755.2    | 0             | 0             | 0             | 0.000000e+00  | \n",
       "| AC233755.1    | 0             | 0             | 0             | 0.000000e+00  | \n",
       "| AC213203.1    | 0             | 0             | 0             | 0.000000e+00  | \n",
       "| FAM231B       | 0             | 0             | 0             | 0.000000e+00  | \n",
       "\n",
       "\n"
      ],
      "text/plain": [
       "      name          ctr     sin      ctr.perc  sin.perc    \n",
       "1     FTH1          2377580 13282373 1.9293895 8.2427291   \n",
       "2     RPS18         2081732  2420307 1.6893110 1.5019857   \n",
       "3     RPS2          1999764  2117067 1.6227945 1.3138021   \n",
       "4     RPL13         1924171  2101915 1.5614513 1.3043991   \n",
       "5     RPL13A        1875979  2593637 1.5223438 1.6095503   \n",
       "6     RPL18A        1853873  2118164 1.5044050 1.3144829   \n",
       "7     RPS24         1682239  1602102 1.3651252 0.9942269   \n",
       "8     RPL10         1653679  2580104 1.3419489 1.6011520   \n",
       "9     EEF1A1        1460478  2595400 1.1851677 1.6106443   \n",
       "10    RPL12         1454538  1434992 1.1803474 0.8905224   \n",
       "11    RPL29         1398438  1442871 1.1348227 0.8954119   \n",
       "12    RPL8          1375360  1629600 1.1160950 1.0112915   \n",
       "13    RPL32         1366876  1754053 1.1092103 1.0885241   \n",
       "14    RPS14         1197965  1455339 0.9721402 0.9031492   \n",
       "15    RPS12         1142568  1494429 0.9271859 0.9274076   \n",
       "16    RPLP2         1109787  1288413 0.9005844 0.7995589   \n",
       "17    RPLP1         1093887  1345799 0.8876817 0.8351713   \n",
       "18    MT-CO1        1064843   939904 0.8641126 0.5832824   \n",
       "19    RPS3          1035995  1301919 0.8407027 0.8079404   \n",
       "20    RPL27A         974211  1086319 0.7905654 0.6741441   \n",
       "21    RPL15          960237  1202387 0.7792256 0.7461732   \n",
       "22    RPS5           957978  1249794 0.7773924 0.7755928   \n",
       "23    RPL36          947286   990500 0.7687160 0.6146811   \n",
       "24    RPL11          945433  1166447 0.7672123 0.7238696   \n",
       "25    RPS28          927334  1033258 0.7525251 0.6412157   \n",
       "26    RPS8           923933  1185273 0.7497652 0.7355526   \n",
       "27    RPS27A         907872  1076634 0.7367318 0.6681338   \n",
       "28    RPS23          903864  1123810 0.7334793 0.6974101   \n",
       "29    RPL7A          897491  1011237 0.7283077 0.6275500   \n",
       "30    RPL28          891940  1310995 0.7238031 0.8135727   \n",
       "⋮     ⋮             ⋮       ⋮        ⋮         ⋮           \n",
       "33665 LINC00163     0       1        0         6.205765e-07\n",
       "33666 LINC00165     0       0        0         0.000000e+00\n",
       "33667 LINC00162     0       0        0         0.000000e+00\n",
       "33668 RP5-1023B21.1 0       0        0         0.000000e+00\n",
       "33669 LINC00315     0       0        0         0.000000e+00\n",
       "33670 BX322557.13   0       0        0         0.000000e+00\n",
       "33671 COL18A1-AS2   0       0        0         0.000000e+00\n",
       "33672 RP1-101D8.1   0       0        0         0.000000e+00\n",
       "33673 AL592528.1    0       0        0         0.000000e+00\n",
       "33674 AP001476.4    0       0        0         0.000000e+00\n",
       "33675 AP001476.3    0       0        0         0.000000e+00\n",
       "33676 FTCD-AS1      0       0        0         0.000000e+00\n",
       "33677 S100B         0       0        0         0.000000e+00\n",
       "33678 AC133551.1    0       0        0         0.000000e+00\n",
       "33679 AC136612.1    0       0        0         0.000000e+00\n",
       "33680 AC136616.3    0       0        0         0.000000e+00\n",
       "33681 AC136616.2    0       0        0         0.000000e+00\n",
       "33682 AC141272.1    0       0        0         0.000000e+00\n",
       "33683 AC136352.4    0       0        0         0.000000e+00\n",
       "33684 AC171558.2    0       0        0         0.000000e+00\n",
       "33685 AC171558.1    0       0        0         0.000000e+00\n",
       "33686 AC011841.1    0       0        0         0.000000e+00\n",
       "33687 AC011043.2    0       0        0         0.000000e+00\n",
       "33688 AC007325.2    0       0        0         0.000000e+00\n",
       "33689 BX072566.1    0       0        0         0.000000e+00\n",
       "33690 AC023491.2    0       0        0         0.000000e+00\n",
       "33691 AC233755.2    0       0        0         0.000000e+00\n",
       "33692 AC233755.1    0       0        0         0.000000e+00\n",
       "33693 AC213203.1    0       0        0         0.000000e+00\n",
       "33694 FAM231B       0       0        0         0.000000e+00"
      ]
     },
     "metadata": {},
     "output_type": "display_data"
    }
   ],
   "source": [
    "drt %>% \n",
    "   mutate(ctr.perc = 100 * ctr / sum(ctr)) %>% \n",
    "   mutate(sin.perc = 100 * sin / sum(sin)) %>% \n",
    "   arrange(desc(ctr.perc))"
   ]
  },
  {
   "cell_type": "markdown",
   "metadata": {},
   "source": [
    "We can see that FTH1 is over expressed in the SIN matrix, so we should run two anaylses on mutant where it is filtered out.\n",
    "\n",
    "What is the proportion of mitochondrial genes?"
   ]
  },
  {
   "cell_type": "code",
   "execution_count": 95,
   "metadata": {},
   "outputs": [
    {
     "data": {
      "text/html": [
       "<table>\n",
       "<thead><tr><th scope=col>name</th><th scope=col>ctr</th><th scope=col>sin</th></tr></thead>\n",
       "<tbody>\n",
       "\t<tr><td>MT-ND1 </td><td> 486244</td><td>494042 </td></tr>\n",
       "\t<tr><td>MT-ND2 </td><td> 417245</td><td>432032 </td></tr>\n",
       "\t<tr><td>MT-CO1 </td><td>1064843</td><td>939904 </td></tr>\n",
       "\t<tr><td>MT-CO2 </td><td> 704839</td><td>679705 </td></tr>\n",
       "\t<tr><td>MT-ATP8</td><td>    114</td><td>   122 </td></tr>\n",
       "\t<tr><td>MT-ATP6</td><td>  89282</td><td> 71643 </td></tr>\n",
       "\t<tr><td>MT-CO3 </td><td> 443447</td><td>400269 </td></tr>\n",
       "\t<tr><td>MT-ND3 </td><td>  31817</td><td> 30250 </td></tr>\n",
       "\t<tr><td>MT-ND4L</td><td>   2461</td><td>  1846 </td></tr>\n",
       "\t<tr><td>MT-ND4 </td><td> 405372</td><td>382373 </td></tr>\n",
       "\t<tr><td>MT-ND5 </td><td>  40330</td><td> 34446 </td></tr>\n",
       "\t<tr><td>MT-ND6 </td><td>   5442</td><td>  3659 </td></tr>\n",
       "\t<tr><td>MT-CYB </td><td> 195996</td><td>213144 </td></tr>\n",
       "</tbody>\n",
       "</table>\n"
      ],
      "text/latex": [
       "\\begin{tabular}{r|lll}\n",
       " name & ctr & sin\\\\\n",
       "\\hline\n",
       "\t MT-ND1  &  486244 & 494042 \\\\\n",
       "\t MT-ND2  &  417245 & 432032 \\\\\n",
       "\t MT-CO1  & 1064843 & 939904 \\\\\n",
       "\t MT-CO2  &  704839 & 679705 \\\\\n",
       "\t MT-ATP8 &     114 &    122 \\\\\n",
       "\t MT-ATP6 &   89282 &  71643 \\\\\n",
       "\t MT-CO3  &  443447 & 400269 \\\\\n",
       "\t MT-ND3  &   31817 &  30250 \\\\\n",
       "\t MT-ND4L &    2461 &   1846 \\\\\n",
       "\t MT-ND4  &  405372 & 382373 \\\\\n",
       "\t MT-ND5  &   40330 &  34446 \\\\\n",
       "\t MT-ND6  &    5442 &   3659 \\\\\n",
       "\t MT-CYB  &  195996 & 213144 \\\\\n",
       "\\end{tabular}\n"
      ],
      "text/markdown": [
       "\n",
       "name | ctr | sin | \n",
       "|---|---|---|---|---|---|---|---|---|---|---|---|---|\n",
       "| MT-ND1  |  486244 | 494042  | \n",
       "| MT-ND2  |  417245 | 432032  | \n",
       "| MT-CO1  | 1064843 | 939904  | \n",
       "| MT-CO2  |  704839 | 679705  | \n",
       "| MT-ATP8 |     114 |    122  | \n",
       "| MT-ATP6 |   89282 |  71643  | \n",
       "| MT-CO3  |  443447 | 400269  | \n",
       "| MT-ND3  |   31817 |  30250  | \n",
       "| MT-ND4L |    2461 |   1846  | \n",
       "| MT-ND4  |  405372 | 382373  | \n",
       "| MT-ND5  |   40330 |  34446  | \n",
       "| MT-ND6  |    5442 |   3659  | \n",
       "| MT-CYB  |  195996 | 213144  | \n",
       "\n",
       "\n"
      ],
      "text/plain": [
       "   name    ctr     sin   \n",
       "1  MT-ND1   486244 494042\n",
       "2  MT-ND2   417245 432032\n",
       "3  MT-CO1  1064843 939904\n",
       "4  MT-CO2   704839 679705\n",
       "5  MT-ATP8     114    122\n",
       "6  MT-ATP6   89282  71643\n",
       "7  MT-CO3   443447 400269\n",
       "8  MT-ND3    31817  30250\n",
       "9  MT-ND4L    2461   1846\n",
       "10 MT-ND4   405372 382373\n",
       "11 MT-ND5    40330  34446\n",
       "12 MT-ND6     5442   3659\n",
       "13 MT-CYB   195996 213144"
      ]
     },
     "metadata": {},
     "output_type": "display_data"
    }
   ],
   "source": [
    "mt.expr <- drt %>% filter(grepl(\"^MT-\", name)) \n",
    "mt.expr"
   ]
  },
  {
   "cell_type": "code",
   "execution_count": 99,
   "metadata": {},
   "outputs": [
    {
     "data": {
      "text/html": [
       "<table>\n",
       "<thead><tr><th scope=col>ctr</th><th scope=col>sin</th></tr></thead>\n",
       "<tbody>\n",
       "\t<tr><td>3.154624</td><td>2.285853</td></tr>\n",
       "</tbody>\n",
       "</table>\n"
      ],
      "text/latex": [
       "\\begin{tabular}{r|ll}\n",
       " ctr & sin\\\\\n",
       "\\hline\n",
       "\t 3.154624 & 2.285853\\\\\n",
       "\\end{tabular}\n"
      ],
      "text/markdown": [
       "\n",
       "ctr | sin | \n",
       "|---|\n",
       "| 3.154624 | 2.285853 | \n",
       "\n",
       "\n"
      ],
      "text/plain": [
       "  ctr      sin     \n",
       "1 3.154624 2.285853"
      ]
     },
     "metadata": {},
     "output_type": "display_data"
    }
   ],
   "source": [
    "data.frame(\n",
    "    ctr=100 * sum(mt.expr$ctr) / sum(drt$ctr),\n",
    "    sin=100 * sum(mt.expr$sin) / sum(drt$sin))"
   ]
  },
  {
   "cell_type": "markdown",
   "metadata": {},
   "source": [
    "13 MT genes, all with very similar levels of expression between CTR and SIN (i.e. not at all DE), and with less than 4% contributing to the variance in the data.\n",
    "\n",
    "Most likely not relevant or impactful to the analysis. We will filter these out."
   ]
  },
  {
   "cell_type": "code",
   "execution_count": null,
   "metadata": {},
   "outputs": [],
   "source": []
  }
 ],
 "metadata": {
  "kernelspec": {
   "display_name": "R",
   "language": "R",
   "name": "ir"
  },
  "language_info": {
   "codemirror_mode": "r",
   "file_extension": ".r",
   "mimetype": "text/x-r-source",
   "name": "R",
   "pygments_lexer": "r",
   "version": "3.5.1"
  },
  "toc": {
   "base_numbering": 1,
   "nav_menu": {},
   "number_sections": true,
   "sideBar": true,
   "skip_h1_title": false,
   "title_cell": "Table of Contents",
   "title_sidebar": "Contents",
   "toc_cell": false,
   "toc_position": {},
   "toc_section_display": true,
   "toc_window_display": false
  }
 },
 "nbformat": 4,
 "nbformat_minor": 2
}
